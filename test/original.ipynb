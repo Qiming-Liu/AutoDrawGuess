{
 "cells": [
  {
   "cell_type": "markdown",
   "id": "f2d6e6e8",
   "metadata": {},
   "source": [
    "最初编写软件时的文件"
   ]
  },
  {
   "cell_type": "markdown",
   "id": "7a3ab47e",
   "metadata": {},
   "source": [
    "可以在这个网站测试  \n",
    "https://sketch.io/sketchpad/"
   ]
  },
  {
   "cell_type": "code",
   "execution_count": 1,
   "id": "439a85a4",
   "metadata": {
    "ExecuteTime": {
     "end_time": "2021-09-27T22:24:09.062009Z",
     "start_time": "2021-09-27T22:24:08.946532Z"
    },
    "scrolled": true
   },
   "outputs": [],
   "source": [
    "from tkinter import Tk, Canvas, Button, PhotoImage\n",
    "import keyboard\n",
    "import pyautogui\n",
    "from PIL import Image, ImageGrab\n",
    "import win32api, win32gui\n",
    "import time\n",
    "import pickle\n",
    "import numpy as np"
   ]
  },
  {
   "cell_type": "markdown",
   "id": "4e946033",
   "metadata": {},
   "source": [
    "跳过"
   ]
  },
  {
   "cell_type": "code",
   "execution_count": null,
   "id": "15453521",
   "metadata": {},
   "outputs": [
    {
     "name": "stdout",
     "output_type": "stream",
     "text": [
      "Start\n",
      "Start\n",
      "Stop\n",
      "Stop\n"
     ]
    }
   ],
   "source": [
    "window = Tk()\n",
    "\n",
    "window.geometry(\"650x537\")\n",
    "window.configure(bg = \"#FFFFFF\")\n",
    "\n",
    "canvas = Canvas(\n",
    "    window,\n",
    "    bg = \"#FFFFFF\",\n",
    "    height = 537,\n",
    "    width = 650,\n",
    "    bd = 0,\n",
    "    highlightthickness = 0,\n",
    "    relief = \"ridge\"\n",
    ")\n",
    "canvas.place(x = 0, y = 0)\n",
    "\n",
    "def create_text(str):\n",
    "    canvas.create_text(\n",
    "        38.0,\n",
    "        480.0,\n",
    "        anchor=\"nw\",\n",
    "        text=str,\n",
    "        fill=\"#080B1A\",\n",
    "        font=(\"Roboto\", 24 * -1),\n",
    "        tags=('print',)\n",
    "    )\n",
    "\n",
    "def button_clicked():\n",
    "    canvas.delete('print')\n",
    "    create_text(\"asd\")\n",
    "\n",
    "image_image = PhotoImage(\n",
    "    file=\"./assets/bg.png\")\n",
    "image_1 = canvas.create_image(\n",
    "    325.0,\n",
    "    268.0,\n",
    "    image=image_image\n",
    ")\n",
    "\n",
    "button_image = PhotoImage(\n",
    "    file=\"./assets/button.png\")\n",
    "button = Button(\n",
    "    image=button_image,\n",
    "    borderwidth=0,\n",
    "    highlightthickness=0,\n",
    "    command=lambda: button_clicked(),\n",
    "    relief=\"flat\"\n",
    ")\n",
    "button.place(\n",
    "    x=451.0,\n",
    "    y=124.0,\n",
    "    width=198.0,\n",
    "    height=143.0\n",
    ")\n",
    "create_text(\"Print\")\n",
    "\n",
    "\n",
    "def start():\n",
    "    print(\"Start\")\n",
    "def stop():\n",
    "    print(\"Stop\")\n",
    "\n",
    "keyboard.add_hotkey('f11', start)\n",
    "keyboard.add_hotkey('f12', stop)\n",
    "    \n",
    "window.resizable(False, False)\n",
    "window.mainloop()\n",
    "\n",
    "def get_image(name):\n",
    "    hwnd = win32gui.FindWindow(0,name)\n",
    "    if hwnd == 0:\n",
    "        return None\n",
    "    else:\n",
    "        (x1,y1,x2,y2) = win32gui.GetWindowRect(hwnd)\n",
    "        img = ImageGrab.grab((x1,y1,x2,y2))\n",
    "        return img\n",
    "img = get_image('Draw&Guess')\n",
    "save_img(img)"
   ]
  },
  {
   "cell_type": "code",
   "execution_count": 56,
   "id": "3211aae0",
   "metadata": {},
   "outputs": [
    {
     "data": {
      "text/plain": [
       "<function keyboard.add_hotkey.<locals>.remove_()>"
      ]
     },
     "execution_count": 56,
     "metadata": {},
     "output_type": "execute_result"
    }
   ],
   "source": [
    "a = []\n",
    "def color():\n",
    "    currentMouseX, currentMouseY = pyautogui.position()\n",
    "    a.append(currentMouseX)\n",
    "    a.append(currentMouseY)\n",
    "    print(a)\n",
    "keyboard.add_hotkey('f10', color)"
   ]
  },
  {
   "cell_type": "markdown",
   "id": "37548bdd",
   "metadata": {
    "ExecuteTime": {
     "end_time": "2021-09-27T16:33:59.711470Z",
     "start_time": "2021-09-27T16:33:59.554470Z"
    }
   },
   "source": [
    "结束跳过"
   ]
  },
  {
   "cell_type": "code",
   "execution_count": 2,
   "id": "9b32893b",
   "metadata": {
    "ExecuteTime": {
     "end_time": "2021-09-27T22:31:27.469566Z",
     "start_time": "2021-09-27T22:31:27.451970Z"
    }
   },
   "outputs": [],
   "source": [
    "def save_img(v):\n",
    "    filename = 'img.var'\n",
    "    f=open(filename,'wb')\n",
    "    pickle.dump(v,f)\n",
    "    f.close()\n",
    "    return filename\n",
    "def load_img():\n",
    "    filename = 'img.var'\n",
    "    f=open(filename,'rb')\n",
    "    r=pickle.load(f)\n",
    "    f.close()\n",
    "    return r"
   ]
  },
  {
   "cell_type": "code",
   "execution_count": 3,
   "id": "2b097679",
   "metadata": {
    "ExecuteTime": {
     "end_time": "2021-09-27T22:31:28.949975Z",
     "start_time": "2021-09-27T22:31:28.931980Z"
    }
   },
   "outputs": [],
   "source": [
    "img = load_img()\n",
    "point_size = 4 # 6\n",
    "# 绘画区域\n",
    "width ,height = img.size\n",
    "draw_area = 0.7\n",
    "img1 = img.crop((width* (1-draw_area)/2, height* (1-draw_area)/2, width* (1+draw_area)/2, height* (1+draw_area)/2))\n",
    "# 颜色板\n",
    "color_board = img.crop((1470, 25, 1770, 125))\n",
    "color_board = color_board.load()\n",
    "# 调整调色板光标"
   ]
  },
  {
   "cell_type": "code",
   "execution_count": 4,
   "id": "f87f560e",
   "metadata": {
    "ExecuteTime": {
     "end_time": "2021-09-27T22:31:31.560550Z",
     "start_time": "2021-09-27T22:31:31.551545Z"
    }
   },
   "outputs": [],
   "source": [
    "diff_limit = 100\n",
    "color_dic = {}\n",
    "last_p = (255,255,255)\n",
    "last_result = (1769, 124)\n",
    "\n",
    "def colors_diff(pixel_a, pixel_b):\n",
    "    return np.square(pixel_a[0]-pixel_b[0]) + np.square(pixel_a[1]-pixel_b[1]) + np.square(pixel_a[2]-pixel_b[2])\n",
    "\n",
    "def find_color_all(p):\n",
    "    diff_list = []\n",
    "    index_list = []\n",
    "    for x in range(300):\n",
    "        for y in range(100):\n",
    "            diff = colors_diff(p, color_board[x,y])\n",
    "            if diff < 400:\n",
    "                diff_list.append(diff)\n",
    "                index_list.append((x,y))\n",
    "    if len(diff_list) == 0:\n",
    "        return (None, None)\n",
    "    min_diff = min(diff_list)\n",
    "    index = diff_list.index(min_diff)\n",
    "    return index_list[index]\n",
    "    \n",
    "def find_color(p):\n",
    "    global last_p\n",
    "    global last_result\n",
    "    # 白色,黄色\n",
    "    if colors_diff((0,0,0),p) < diff_limit or colors_diff((160, 176, 192),p) < diff_limit:\n",
    "        return (None, None)\n",
    "    \n",
    "    # 黑色\n",
    "    if colors_diff((255,255,255),p) < diff_limit:\n",
    "        return (1769, 124)\n",
    "    \n",
    "    # 上一个\n",
    "    if colors_diff(p, last_p) < diff_limit:\n",
    "        return last_result\n",
    "    \n",
    "    # 扫描字典\n",
    "    if p in color_dic:\n",
    "        return color_dic[p]\n",
    "    \n",
    "    # 完整扫描\n",
    "    (x,y) = find_color_all(p)\n",
    "    if x == None:\n",
    "        return (None, None)\n",
    "    else:\n",
    "        result = (x + 1470,y +25)\n",
    "        color_dic[p] = result\n",
    "        last_p = p\n",
    "        last_result = result\n",
    "    return result"
   ]
  },
  {
   "cell_type": "code",
   "execution_count": 5,
   "id": "4cfb4ace",
   "metadata": {
    "ExecuteTime": {
     "end_time": "2021-09-27T22:31:34.399490Z",
     "start_time": "2021-09-27T22:31:34.337378Z"
    }
   },
   "outputs": [],
   "source": [
    "#读取图片 调整图片\n",
    "target_img = Image.open('./example.jpg')\n",
    "tiw, tih = target_img.size\n",
    "\n",
    "#图片过大处理\n",
    "if(tiw*draw_area>tih):\n",
    "    if(tiw > width * draw_area):\n",
    "        w = width * draw_area\n",
    "        h = tih * width * draw_area / tiw\n",
    "        target_img = target_img.resize((round(w),round(h)), Image.ANTIALIAS)\n",
    "else:\n",
    "    if(tih > height * draw_area):\n",
    "        h = height * draw_area\n",
    "        w = tiw * height * draw_area / tih\n",
    "        target_img = target_img.resize((round(w),round(h)), Image.ANTIALIAS)\n",
    "        \n",
    "tiw, tih = target_img.size\n",
    "start_x = round((width/2*draw_area)-(tiw/2)+(width* (1-draw_area)/2))\n",
    "start_y = round((height/2*draw_area)-(tih/2)+(height* (1-draw_area)/2))\n",
    "\n",
    "#图片缩小\n",
    "tiw, tih = target_img.size\n",
    "target_img = target_img.resize((round(tiw/point_size),round(tih/point_size)), Image.ANTIALIAS)\n",
    "tiw, tih = target_img.size\n",
    "target_img_p = target_img.load()\n",
    "\n",
    "#检测是否聚焦\n",
    "\n",
    "#选择最小画笔\n",
    "# pyautogui.click(1407, 73)\n",
    "# time.sleep(1)\n",
    "# #移动到画板左上角\n",
    "# pyautogui.moveTo(start_x+point_size/2, start_y+point_size/2)\n",
    "\n",
    "# 循环画点\n",
    "# pyautogui.click(200, 220)\n",
    "# time.sleep(0.04)\n",
    "# pyautogui.click(200, 220)"
   ]
  },
  {
   "cell_type": "markdown",
   "id": "335ecafd",
   "metadata": {},
   "source": [
    "测试"
   ]
  },
  {
   "cell_type": "code",
   "execution_count": 16,
   "id": "2072af47",
   "metadata": {
    "ExecuteTime": {
     "end_time": "2021-09-27T19:14:45.057304Z",
     "start_time": "2021-09-27T19:14:21.643270Z"
    }
   },
   "outputs": [
    {
     "name": "stderr",
     "output_type": "stream",
     "text": [
      "100%|████████████████████████████████████████████████████████████████████████████████| 200/200 [00:23<00:00,  8.55it/s]\n"
     ]
    }
   ],
   "source": [
    "ori_img = img.load()\n",
    "from tqdm import tqdm\n",
    "for x in tqdm(range(tiw)):\n",
    "    for y in range(tih):\n",
    "        (m,n) = find_color(target_img_p[x,y])\n",
    "        if m!=None:\n",
    "            target_img_p[x,y] = ori_img[m,n]"
   ]
  },
  {
   "cell_type": "code",
   "execution_count": 35,
   "id": "e63fa517",
   "metadata": {
    "ExecuteTime": {
     "end_time": "2021-09-27T22:51:50.121211Z",
     "start_time": "2021-09-27T22:51:50.089171Z"
    }
   },
   "outputs": [],
   "source": [
    "color_dic = {}\n",
    "for x in range(300):\n",
    "        for y in range(100):\n",
    "            color_dic[color_board[x,y]] = (x + 1470,y +25)\n",
    "    \n",
    "def find_color2(p):\n",
    "    # 白色,黄色\n",
    "    if colors_diff((0,0,0),p) < diff_limit or colors_diff((160, 176, 192),p) < diff_limit:\n",
    "        return (None, None)\n",
    "    \n",
    "    # 黑色\n",
    "    if colors_diff((255,255,255),p) < diff_limit:\n",
    "        return (1769, 124)\n",
    "    \n",
    "    # 完整扫描\n",
    "    (x,y) = find_color_all(p)\n",
    "    if x == None:\n",
    "        return (None, None)\n",
    "    else:\n",
    "        result = (x + 1470,y +25)\n",
    "        color_dic[p] = result\n",
    "        last_p = p\n",
    "        last_result = result\n",
    "    return result"
   ]
  },
  {
   "cell_type": "code",
   "execution_count": 12,
   "id": "f2e4da59",
   "metadata": {
    "ExecuteTime": {
     "end_time": "2021-09-27T22:38:40.941481Z",
     "start_time": "2021-09-27T22:38:40.909484Z"
    }
   },
   "outputs": [],
   "source": [
    "colors = []\n",
    "for x in range(300):\n",
    "    for y in range(100):\n",
    "        l = []\n",
    "        l.append(color_board[x,y][0])\n",
    "        l.append(color_board[x,y][1])\n",
    "        l.append(color_board[x,y][2])\n",
    "        colors.append(l)"
   ]
  },
  {
   "cell_type": "code",
   "execution_count": 17,
   "id": "2ac725f2",
   "metadata": {
    "ExecuteTime": {
     "end_time": "2021-09-27T22:41:09.638909Z",
     "start_time": "2021-09-27T22:41:09.627912Z"
    }
   },
   "outputs": [],
   "source": [
    "colors = np.array(colors)\n",
    "def closest(colors,color):\n",
    "    color = np.array(color)\n",
    "    distances = np.sqrt(np.sum((colors-color)**2,axis=1))\n",
    "    index_of_smallest = np.where(distances==np.amin(distances))\n",
    "    smallest_distance = colors[index_of_smallest]\n",
    "    return smallest_distance"
   ]
  },
  {
   "cell_type": "code",
   "execution_count": 45,
   "id": "fa9171f5",
   "metadata": {
    "ExecuteTime": {
     "end_time": "2021-09-27T22:59:01.729396Z",
     "start_time": "2021-09-27T22:58:39.839459Z"
    }
   },
   "outputs": [
    {
     "name": "stderr",
     "output_type": "stream",
     "text": [
      "100%|████████████████████████████████████████████████████████████████████████████████| 200/200 [00:21<00:00,  9.14it/s]\n"
     ]
    }
   ],
   "source": [
    "ori_img = img.load()\n",
    "from tqdm import tqdm\n",
    "for x in tqdm(range(tiw)):\n",
    "    for y in range(tih):\n",
    "        a = closest(colors,target_img_p[x,y])\n",
    "        a = a[0]\n",
    "        (m,n) = color_dic[(a[0],a[1],a[2])]\n",
    "        target_img_p[x,y] = ori_img[m,n]"
   ]
  },
  {
   "cell_type": "code",
   "execution_count": 23,
   "id": "6713353f",
   "metadata": {
    "ExecuteTime": {
     "end_time": "2021-09-27T19:30:55.869050Z",
     "start_time": "2021-09-27T19:22:40.223999Z"
    }
   },
   "outputs": [
    {
     "name": "stderr",
     "output_type": "stream",
     "text": [
      "100%|████████████████████████████████████████████████████████████████████████████████| 200/200 [08:15<00:00,  2.48s/it]\n"
     ]
    }
   ],
   "source": [
    "ori_img = img.load()\n",
    "from tqdm import tqdm\n",
    "for x in tqdm(range(tiw)):\n",
    "    for y in range(tih):\n",
    "        (m,n) = find_color2(target_img_p[x,y])\n",
    "        if m!=None:\n",
    "            target_img_p[x,y] = ori_img[m,n]"
   ]
  }
 ],
 "metadata": {
  "kernelspec": {
   "display_name": "Python 3 (ipykernel)",
   "language": "python",
   "name": "python3"
  },
  "language_info": {
   "codemirror_mode": {
    "name": "ipython",
    "version": 3
   },
   "file_extension": ".py",
   "mimetype": "text/x-python",
   "name": "python",
   "nbconvert_exporter": "python",
   "pygments_lexer": "ipython3",
   "version": "3.9.5"
  },
  "varInspector": {
   "cols": {
    "lenName": 16,
    "lenType": 16,
    "lenVar": 40
   },
   "kernels_config": {
    "python": {
     "delete_cmd_postfix": "",
     "delete_cmd_prefix": "del ",
     "library": "var_list.py",
     "varRefreshCmd": "print(var_dic_list())"
    },
    "r": {
     "delete_cmd_postfix": ") ",
     "delete_cmd_prefix": "rm(",
     "library": "var_list.r",
     "varRefreshCmd": "cat(var_dic_list()) "
    }
   },
   "types_to_exclude": [
    "module",
    "function",
    "builtin_function_or_method",
    "instance",
    "_Feature"
   ],
   "window_display": false
  }
 },
 "nbformat": 4,
 "nbformat_minor": 5
}
