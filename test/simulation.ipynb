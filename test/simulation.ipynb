{
 "cells": [
  {
   "cell_type": "markdown",
   "id": "9e63c1e4",
   "metadata": {},
   "source": [
    "尝试模拟画点的文件, 未完成"
   ]
  },
  {
   "cell_type": "code",
   "execution_count": 12,
   "id": "c9ae0a82",
   "metadata": {
    "ExecuteTime": {
     "end_time": "2021-09-30T01:05:52.033347Z",
     "start_time": "2021-09-30T01:05:51.961189Z"
    }
   },
   "outputs": [],
   "source": [
    "from tkinter import Tk, Canvas, Button, PhotoImage, filedialog\n",
    "import keyboard\n",
    "import pyautogui\n",
    "from PIL import Image, ImageGrab\n",
    "import win32api, win32gui\n",
    "import pickle, time\n",
    "import numpy as np\n",
    "from tqdm import tqdm"
   ]
  },
  {
   "cell_type": "code",
   "execution_count": 2,
   "id": "11eec3f8",
   "metadata": {
    "ExecuteTime": {
     "end_time": "2021-09-29T15:31:15.763301Z",
     "start_time": "2021-09-29T15:31:15.745590Z"
    }
   },
   "outputs": [],
   "source": [
    "def save_img(filename,v):\n",
    "    f=open(filename,'wb')\n",
    "    pickle.dump(v,f)\n",
    "    f.close()\n",
    "def load_img(filename):\n",
    "    f=open(filename,'rb')\n",
    "    r=pickle.load(f)\n",
    "    f.close()\n",
    "    return r"
   ]
  },
  {
   "cell_type": "code",
   "execution_count": 3,
   "id": "899117c8",
   "metadata": {
    "ExecuteTime": {
     "end_time": "2021-09-28T19:50:10.370331Z",
     "start_time": "2021-09-28T19:50:10.355335Z"
    }
   },
   "outputs": [],
   "source": [
    "img = load_img('img.var') # 大42 中8 小4"
   ]
  },
  {
   "cell_type": "code",
   "execution_count": 16,
   "id": "1a7bb17c",
   "metadata": {
    "ExecuteTime": {
     "end_time": "2021-09-28T19:53:38.523612Z",
     "start_time": "2021-09-28T19:53:38.497582Z"
    }
   },
   "outputs": [],
   "source": [
    "target_img = Image.open('./test.jpg')\n",
    "width, height = target_img.size\n",
    "target_img = target_img.resize((round(width / 4), round(height / 4)), Image.ANTIALIAS)"
   ]
  },
  {
   "cell_type": "code",
   "execution_count": 21,
   "id": "9e7b2d3c",
   "metadata": {
    "ExecuteTime": {
     "end_time": "2021-09-28T19:54:15.177961Z",
     "start_time": "2021-09-28T19:54:15.159962Z"
    },
    "scrolled": true
   },
   "outputs": [],
   "source": [
    "low_img = target_img.convert('P', palette=Image.ADAPTIVE, colors=3)\n",
    "target_img = low_img.convert('RGB', palette=Image.ADAPTIVE, colors=3)"
   ]
  },
  {
   "cell_type": "code",
   "execution_count": 22,
   "id": "b875c840",
   "metadata": {
    "ExecuteTime": {
     "end_time": "2021-09-28T19:54:24.862032Z",
     "start_time": "2021-09-28T19:54:24.847032Z"
    }
   },
   "outputs": [],
   "source": [
    "tiw, tih = target_img.size\n",
    "target_img_p = target_img.load()"
   ]
  },
  {
   "cell_type": "code",
   "execution_count": 43,
   "id": "087cf89e",
   "metadata": {
    "ExecuteTime": {
     "end_time": "2021-09-28T20:13:20.603693Z",
     "start_time": "2021-09-28T20:13:19.667696Z"
    }
   },
   "outputs": [],
   "source": [
    "diff_limit = 100  # 相似像素最大距离\n",
    "last_p = (255, 255, 255)\n",
    "last_result = (1769, 124)\n",
    "\n",
    "\n",
    "def colors_diff(pixel_a, pixel_b):\n",
    "    return np.square(pixel_a[0] - pixel_b[0]) + np.square(pixel_a[1] - pixel_b[1]) + np.square(pixel_a[2] - pixel_b[2])\n",
    "\n",
    "point_size = 6  # 画笔大小\n",
    "draw_area = 0.7  # 绘画区域比例\n",
    "color_dic_temp = {}\n",
    "\n",
    "# 绘画区域\n",
    "start_x = round((width / 2 * draw_area) - (tiw / 2) + (width * (1 - draw_area) / 2))\n",
    "start_y = round((height / 2 * draw_area) - (tih / 2) + (height * (1 - draw_area) / 2))\n",
    "\n",
    "# 调色板\n",
    "color_board = img.crop((1470, 25, 1770, 125))\n",
    "color_board = color_board.load()\n",
    "\n",
    "# 统计调色板颜色\n",
    "colors = []\n",
    "for x in range(300):\n",
    "    for y in range(100):\n",
    "        color3 = [color_board[x, y][0], color_board[x, y][1], color_board[x, y][2]]\n",
    "        colors.append(color3)\n",
    "colors = np.array(colors)\n",
    "\n",
    "# 建立调色板字典\n",
    "color_dic = {}\n",
    "for x in range(300):\n",
    "    for y in range(100):\n",
    "        color_dic[color_board[x, y]] = (x + 1470, y + 25)\n",
    "        \n",
    "# 计算最接近的颜色 此方法速度快, 精确度较高, 但并不是最好结果\n",
    "def closest(p, colors_all):\n",
    "    p = np.array(p)\n",
    "    distances = np.sqrt(np.sum((colors_all - p) ** 2, axis=1))\n",
    "    index_of_smallest = np.where(distances == np.amin(distances))\n",
    "    smallest_distance_color = colors[index_of_smallest]\n",
    "    return smallest_distance_color\n",
    "        \n",
    "def find_color(p, colors_all):\n",
    "    global last_p\n",
    "    global last_result\n",
    "    # 白色, 黄色\n",
    "    if colors_diff((0, 0, 0), p) < diff_limit or colors_diff((255, 254, 246), p) < diff_limit:\n",
    "        return None, None\n",
    "    \n",
    "    # 黑色\n",
    "    if colors_diff((255, 255, 255), p) < diff_limit:\n",
    "        return 1769, 124\n",
    "    \n",
    "    # 上一个\n",
    "    if colors_diff(p, last_p) < diff_limit:\n",
    "        return last_result\n",
    "    \n",
    "    # 扫描临时字典\n",
    "    if p in color_dic_temp:\n",
    "        return color_dic_temp[p]\n",
    "    \n",
    "    color = closest(p, colors_all)\n",
    "    color = color[0]\n",
    "    rx, ry = color_dic[(color[0], color[1], color[2])]\n",
    "    color_dic_temp[p] = (rx, ry)\n",
    "    last_p = p\n",
    "    last_result = (rx, ry)\n",
    "    return rx, ry\n",
    "\n",
    "\n",
    "# 计算所有取色点\n",
    "step = {}\n",
    "for y in range(tih):\n",
    "    for x in range(tiw):\n",
    "        m, n = find_color(target_img_p[x, y], colors)\n",
    "        if m is None:\n",
    "            break\n",
    "        else:\n",
    "            # 记录操作步骤\n",
    "            if not (m, n) in step:\n",
    "                step[(m, n)] = []\n",
    "            step[(m, n)].append((start_x + point_size * x, start_y + point_size * y))\n",
    "\n",
    "# 排序, 先画颜色多的点\n",
    "sort = sorted(step, key=lambda k: len(step[k]), reverse=True)"
   ]
  },
  {
   "cell_type": "code",
   "execution_count": 44,
   "id": "a0c5428f",
   "metadata": {
    "ExecuteTime": {
     "end_time": "2021-09-28T20:13:37.887273Z",
     "start_time": "2021-09-28T20:13:37.873273Z"
    }
   },
   "outputs": [
    {
     "data": {
      "text/plain": [
       "[(1659, 28), (1710, 109), (1479, 116), (1474, 122)]"
      ]
     },
     "execution_count": 44,
     "metadata": {},
     "output_type": "execute_result"
    }
   ],
   "source": [
    "sort"
   ]
  },
  {
   "cell_type": "code",
   "execution_count": 42,
   "id": "e58756b4",
   "metadata": {
    "ExecuteTime": {
     "end_time": "2021-09-28T20:02:46.097597Z",
     "start_time": "2021-09-28T20:02:45.091598Z"
    },
    "scrolled": true
   },
   "outputs": [
    {
     "name": "stderr",
     "output_type": "stream",
     "text": [
      "\r",
      "  0%|                                                                                            | 0/4 [00:00<?, ?it/s]"
     ]
    },
    {
     "name": "stdout",
     "output_type": "stream",
     "text": [
      "819 816\n",
      "1065 822\n",
      "657 834\n",
      "657 840\n",
      "1131 840\n",
      "699 846\n",
      "1083 846\n",
      "711 858\n",
      "1161 858\n",
      "657 864\n",
      "705 864\n",
      "1173 864\n",
      "657 870\n",
      "1185 870\n",
      "657 876\n",
      "1191 876\n",
      "657 882\n",
      "1197 882\n",
      "1761 882\n",
      "657 888\n",
      "1101 888\n",
      "657 894\n",
      "657 900\n",
      "687 900\n",
      "1107 900\n",
      "1215 900\n",
      "1773 900\n",
      "657 906\n",
      "687 906\n",
      "765 906\n",
      "1221 906\n",
      "1779 906\n",
      "657 912\n",
      "687 912\n",
      "741 912\n",
      "759 912\n",
      "777 912\n",
      "1227 912\n",
      "1779 912\n",
      "657 918\n",
      "687 918\n",
      "735 918\n",
      "753 918\n",
      "783 918\n",
      "1785 918\n",
      "507 924\n",
      "657 924\n",
      "687 924\n",
      "723 924\n",
      "753 924\n",
      "777 924\n",
      "1221 924\n",
      "507 930\n",
      "657 930\n",
      "705 930\n",
      "723 930\n",
      "777 930\n",
      "1119 930\n",
      "1221 930\n",
      "1239 930\n",
      "1791 930\n",
      "507 936\n",
      "639 936\n",
      "657 936\n",
      "705 936\n",
      "777 936\n",
      "1125 936\n",
      "1215 936\n",
      "1239 936\n",
      "1275 936\n",
      "1797 936\n",
      "507 942\n",
      "531 942\n",
      "603 942\n",
      "1101 942\n",
      "1125 942\n",
      "1227 942\n",
      "1299 942\n",
      "1797 942\n",
      "507 948\n",
      "531 948\n",
      "1317 948\n",
      "1803 948\n",
      "501 954\n",
      "525 954\n",
      "1131 954\n",
      "1323 954\n",
      "1803 954\n",
      "501 960\n",
      "1131 960\n",
      "1809 960\n",
      "501 966\n",
      "1137 966\n",
      "501 972\n",
      "717 972\n",
      "1137 972\n",
      "1365 972\n",
      "1815 972\n",
      "501 978\n",
      "717 978\n",
      "1137 978\n",
      "1359 978\n",
      "1377 978\n",
      "1815 978\n",
      "489 984\n",
      "795 984\n",
      "1137 984\n",
      "1353 984\n",
      "1821 984\n",
      "477 990\n",
      "1131 990\n",
      "1353 990\n",
      "1821 990\n",
      "477 996\n",
      "1131 996\n",
      "1347 996\n",
      "1827 996\n",
      "471 1002\n",
      "1113 1002\n",
      "1347 1002\n",
      "1827 1002\n",
      "465 1008\n",
      "1113 1008\n",
      "1341 1008\n",
      "1833 1008\n",
      "453 1014\n",
      "1113 1014\n",
      "1341 1014\n",
      "1833 1014\n",
      "453 1020\n",
      "1107 1020\n",
      "1335 1020\n",
      "1839 1020\n",
      "447 1026\n",
      "1101 1026\n",
      "1323 1026\n",
      "1839 1026\n",
      "447 1032\n",
      "1017 1032\n",
      "1095 1032\n",
      "1323 1032\n",
      "1467 1032\n",
      "1839 1032\n",
      "435 1038\n",
      "1011 1038\n",
      "1089 1038\n",
      "1323 1038\n",
      "1461 1038\n",
      "1845 1038\n",
      "435 1044\n",
      "1005 1044\n",
      "1071 1044\n",
      "1089 1044\n",
      "1323 1044\n",
      "1455 1044\n",
      "1845 1044\n",
      "435 1050\n",
      "999 1050\n",
      "1323 1050\n",
      "1449 1050\n",
      "1851 1050\n",
      "435 1056\n",
      "633 1056\n",
      "999 1056\n",
      "1317 1056\n",
      "1851 1056\n",
      "429 1062\n",
      "633 1062\n",
      "999 1062\n",
      "1317 1062\n",
      "1851 1062\n",
      "429 1068\n",
      "999 1068\n",
      "1311 1068\n"
     ]
    },
    {
     "name": "stderr",
     "output_type": "stream",
     "text": [
      "\r",
      "  0%|                                                                                            | 0/4 [00:00<?, ?it/s]"
     ]
    },
    {
     "name": "stdout",
     "output_type": "stream",
     "text": [
      "1857 1068\n",
      "429 1074\n",
      "999 1074\n",
      "1311 1074\n",
      "1857 1074\n",
      "423 1080\n"
     ]
    },
    {
     "name": "stderr",
     "output_type": "stream",
     "text": [
      "\n"
     ]
    },
    {
     "ename": "IndexError",
     "evalue": "image index out of range",
     "output_type": "error",
     "traceback": [
      "\u001b[1;31m---------------------------------------------------------------------------\u001b[0m",
      "\u001b[1;31mIndexError\u001b[0m                                Traceback (most recent call last)",
      "\u001b[1;32m~\\AppData\\Local\\Temp/ipykernel_5520/679290454.py\u001b[0m in \u001b[0;36m<module>\u001b[1;34m\u001b[0m\n\u001b[0;32m     21\u001b[0m     \u001b[1;31m# 画\u001b[0m\u001b[1;33m\u001b[0m\u001b[1;33m\u001b[0m\u001b[1;33m\u001b[0m\u001b[0m\n\u001b[0;32m     22\u001b[0m     \u001b[1;32mfor\u001b[0m \u001b[0mthe_line\u001b[0m \u001b[1;32min\u001b[0m \u001b[0mlines\u001b[0m\u001b[1;33m:\u001b[0m\u001b[1;33m\u001b[0m\u001b[1;33m\u001b[0m\u001b[0m\n\u001b[1;32m---> 23\u001b[1;33m         \u001b[0mdraw\u001b[0m\u001b[1;33m(\u001b[0m\u001b[0mthe_line\u001b[0m\u001b[1;33m[\u001b[0m\u001b[1;34m'start'\u001b[0m\u001b[1;33m]\u001b[0m\u001b[1;33m[\u001b[0m\u001b[1;36m0\u001b[0m\u001b[1;33m]\u001b[0m\u001b[1;33m,\u001b[0m \u001b[0mthe_line\u001b[0m\u001b[1;33m[\u001b[0m\u001b[1;34m'start'\u001b[0m\u001b[1;33m]\u001b[0m\u001b[1;33m[\u001b[0m\u001b[1;36m1\u001b[0m\u001b[1;33m]\u001b[0m\u001b[1;33m,\u001b[0m \u001b[0mthe_color\u001b[0m\u001b[1;33m)\u001b[0m\u001b[1;33m\u001b[0m\u001b[1;33m\u001b[0m\u001b[0m\n\u001b[0m\u001b[0;32m     24\u001b[0m         \u001b[1;32mif\u001b[0m \u001b[1;34m'end'\u001b[0m \u001b[1;32min\u001b[0m \u001b[0mthe_line\u001b[0m\u001b[1;33m:\u001b[0m\u001b[1;33m\u001b[0m\u001b[1;33m\u001b[0m\u001b[0m\n\u001b[0;32m     25\u001b[0m             \u001b[1;31m# time\u001b[0m\u001b[1;33m\u001b[0m\u001b[1;33m\u001b[0m\u001b[1;33m\u001b[0m\u001b[0m\n",
      "\u001b[1;32m~\\AppData\\Local\\Temp/ipykernel_5520/1800045499.py\u001b[0m in \u001b[0;36mdraw\u001b[1;34m(x, y, color)\u001b[0m\n\u001b[0;32m      4\u001b[0m     \u001b[0mcolor\u001b[0m \u001b[1;33m=\u001b[0m \u001b[0mimg\u001b[0m\u001b[1;33m.\u001b[0m\u001b[0mload\u001b[0m\u001b[1;33m(\u001b[0m\u001b[1;33m)\u001b[0m\u001b[1;33m[\u001b[0m\u001b[0mcolor\u001b[0m\u001b[1;33m]\u001b[0m\u001b[1;33m\u001b[0m\u001b[1;33m\u001b[0m\u001b[0m\n\u001b[0;32m      5\u001b[0m     \u001b[1;32mglobal\u001b[0m \u001b[0mcu\u001b[0m\u001b[1;33m\u001b[0m\u001b[1;33m\u001b[0m\u001b[0m\n\u001b[1;32m----> 6\u001b[1;33m     \u001b[0mnew_p\u001b[0m\u001b[1;33m[\u001b[0m\u001b[1;33m(\u001b[0m\u001b[0mx\u001b[0m\u001b[1;33m,\u001b[0m\u001b[0my\u001b[0m\u001b[1;33m)\u001b[0m\u001b[1;33m]\u001b[0m \u001b[1;33m=\u001b[0m \u001b[0mcolor\u001b[0m\u001b[1;33m\u001b[0m\u001b[1;33m\u001b[0m\u001b[0m\n\u001b[0m\u001b[0;32m      7\u001b[0m     \u001b[1;32mfor\u001b[0m \u001b[0mrx\u001b[0m \u001b[1;32min\u001b[0m \u001b[0mrange\u001b[0m\u001b[1;33m(\u001b[0m\u001b[1;36m1\u001b[0m\u001b[1;33m,\u001b[0m\u001b[0mcu\u001b[0m\u001b[1;33m)\u001b[0m\u001b[1;33m:\u001b[0m\u001b[1;33m\u001b[0m\u001b[1;33m\u001b[0m\u001b[0m\n\u001b[0;32m      8\u001b[0m         \u001b[1;32mfor\u001b[0m \u001b[0mry\u001b[0m \u001b[1;32min\u001b[0m \u001b[0mrange\u001b[0m\u001b[1;33m(\u001b[0m\u001b[1;36m1\u001b[0m\u001b[1;33m,\u001b[0m\u001b[0mcu\u001b[0m\u001b[1;33m)\u001b[0m\u001b[1;33m:\u001b[0m\u001b[1;33m\u001b[0m\u001b[1;33m\u001b[0m\u001b[0m\n",
      "\u001b[1;31mIndexError\u001b[0m: image index out of range"
     ]
    }
   ],
   "source": [
    "# 最大点间距倍数 默认为2 越大图像越模糊,速度越快\n",
    "max_dot_pitch_multiple = 2\n",
    "\n",
    "# 统计需要画的线\n",
    "for the_color in tqdm(sort):\n",
    "    last_point = (0, 0)\n",
    "    lines = []\n",
    "    line = {}\n",
    "    for draw_point in step[the_color]:\n",
    "        # 同一行 且 距离够近\n",
    "        if draw_point[1] == last_point[1] and not abs(\n",
    "                draw_point[0] - last_point[0]) > max_dot_pitch_multiple * point_size:\n",
    "            line['end'] = draw_point\n",
    "        else:\n",
    "            if last_point[0] != 0:\n",
    "                lines.append(line)\n",
    "                line = {}\n",
    "            line['start'] = draw_point\n",
    "        last_point = draw_point\n",
    "        \n",
    "    # 画    \n",
    "    for the_line in lines:\n",
    "        draw(the_line['start'][0], the_line['start'][1], the_color)\n",
    "        if 'end' in the_line:\n",
    "            # time\n",
    "            draw_line(the_line['start'][0], the_line['start'][1], the_line['end'][0], the_line['end'][1], the_color)"
   ]
  },
  {
   "cell_type": "code",
   "execution_count": 33,
   "id": "16c1114d",
   "metadata": {
    "ExecuteTime": {
     "end_time": "2021-09-28T19:59:24.162349Z",
     "start_time": "2021-09-28T19:59:24.143351Z"
    }
   },
   "outputs": [],
   "source": [
    "def get_distance_from_point_to_line(point, line_point1, line_point2):\n",
    "    #对于两点坐标为同一点时,返回点与点的距离\n",
    "    if line_point1 == line_point2:\n",
    "        point_array = np.array(point )\n",
    "        point1_array = np.array(line_point1)\n",
    "        return np.linalg.norm(point_array -point1_array )\n",
    "    #计算直线的三个参数\n",
    "    A = line_point2[1] - line_point1[1]\n",
    "    B = line_point1[0] - line_point2[0]\n",
    "    C = (line_point1[1] - line_point2[1]) * line_point1[0] + \\\n",
    "        (line_point2[0] - line_point1[0]) * line_point1[1]\n",
    "    #根据点到直线的距离公式计算距离\n",
    "    distance = np.abs(A * point[0] + B * point[1] + C) / (np.sqrt(A**2 + B**2))\n",
    "    return distance"
   ]
  },
  {
   "cell_type": "code",
   "execution_count": 41,
   "id": "b69d2777",
   "metadata": {
    "ExecuteTime": {
     "end_time": "2021-09-28T20:02:34.814455Z",
     "start_time": "2021-09-28T20:02:34.794456Z"
    }
   },
   "outputs": [
    {
     "ename": "IndentationError",
     "evalue": "expected an indented block (Temp/ipykernel_5520/381449461.py, line 10)",
     "output_type": "error",
     "traceback": [
      "\u001b[1;36m  File \u001b[1;32m\"C:\\Users\\pross\\AppData\\Local\\Temp/ipykernel_5520/381449461.py\"\u001b[1;36m, line \u001b[1;32m10\u001b[0m\n\u001b[1;33m    try:\u001b[0m\n\u001b[1;37m    ^\u001b[0m\n\u001b[1;31mIndentationError\u001b[0m\u001b[1;31m:\u001b[0m expected an indented block\n"
     ]
    }
   ],
   "source": [
    "cu = 6\n",
    "def draw(x, y, color):\n",
    "    color = img.load()[color]\n",
    "    global cu\n",
    "    new_p[(x,y)] = color\n",
    "    for rx in range(1,cu):\n",
    "        for ry in range(1,cu):\n",
    "            if np.sqrt(np.square(rx - x) + np.square(ry - y)) <= cu:\n",
    "            try:\n",
    "                new_p[(x+rx,y+ry)] = color\n",
    "                new_p[(x+rx,y-ry)] = color\n",
    "                new_p[(x-rx,y+ry)] = color\n",
    "                new_p[(x-rx,y-ry)] = color\n",
    "            except:\n",
    "                pass\n",
    "                \n",
    "def draw_line(x1, y1, x2, y2, color):\n",
    "    color = img.load()[color]\n",
    "    global cu\n",
    "    for rx in range(x1, x2):\n",
    "        for ry in range(y1-cu,y2+cu):\n",
    "            if get_distance_from_point_to_line((rx,ry),(x1,y1),(x2,y2))<=cu:\n",
    "                try:\n",
    "                    new_p[(rx,ry)] = color\n",
    "                except:\n",
    "                    pass"
   ]
  },
  {
   "cell_type": "code",
   "execution_count": null,
   "id": "f5ab2cf4",
   "metadata": {},
   "outputs": [],
   "source": [
    "# for the_line in lines:\n",
    "#     pyautogui.click(x=the_line['start'][0], y=the_line['start'][1])\n",
    "#     if 'end' in the_line:\n",
    "#         time = ((((the_line['end'][0] - the_line['start'][0]) ** 2) + (\n",
    "#                     (the_line['end'][1] - the_line['start'][1]) ** 2)) ** 0.5) / point_size / 160\n",
    "#         time = max(0.1, time)\n",
    "#         pyautogui.dragTo(the_line['end'][0], the_line['end'][1], time, button='left')"
   ]
  },
  {
   "cell_type": "code",
   "execution_count": 31,
   "id": "82fb12e4",
   "metadata": {
    "ExecuteTime": {
     "end_time": "2021-09-28T19:59:08.255501Z",
     "start_time": "2021-09-28T19:59:08.250502Z"
    }
   },
   "outputs": [],
   "source": [
    "new = Image.new('RGB', (1920, 1080), (255, 254, 246))\n",
    "new_p = new.load()"
   ]
  },
  {
   "cell_type": "code",
   "execution_count": 43,
   "id": "5d9060b6",
   "metadata": {
    "ExecuteTime": {
     "end_time": "2021-09-28T19:20:49.919472Z",
     "start_time": "2021-09-28T19:20:49.860476Z"
    },
    "scrolled": true
   },
   "outputs": [
    {
     "data": {
      "image/png": "[encoded data removed]",
      "text/plain": [
       "<PIL.Image.Image image mode=RGB size=1920x1080 at 0x235CC8B4B50>"
      ]
     },
     "execution_count": 43,
     "metadata": {},
     "output_type": "execute_result"
    }
   ],
   "source": [
    "new"
   ]
  },
  {
   "cell_type": "markdown",
   "id": "4a4a3b07",
   "metadata": {},
   "source": [
    "据说jit会更快, 待测试"
   ]
  },
  {
   "cell_type": "code",
   "execution_count": 16,
   "id": "d5264d01",
   "metadata": {
    "ExecuteTime": {
     "end_time": "2021-09-30T01:08:58.220271Z",
     "start_time": "2021-09-30T01:08:57.502680Z"
    },
    "scrolled": false
   },
   "outputs": [
    {
     "ename": "NameError",
     "evalue": "name 'colors' is not defined",
     "output_type": "error",
     "traceback": [
      "\u001b[1;31m---------------------------------------------------------------------------\u001b[0m",
      "\u001b[1;31mNameError\u001b[0m                                 Traceback (most recent call last)",
      "\u001b[1;32m~\\AppData\\Local\\Temp/ipykernel_4864/557864079.py\u001b[0m in \u001b[0;36m<module>\u001b[1;34m\u001b[0m\n\u001b[0;32m      1\u001b[0m \u001b[1;32mfrom\u001b[0m \u001b[0mnumba\u001b[0m \u001b[1;32mimport\u001b[0m \u001b[0mjit\u001b[0m\u001b[1;33m\u001b[0m\u001b[1;33m\u001b[0m\u001b[0m\n\u001b[1;32m----> 2\u001b[1;33m \u001b[0mcolors\u001b[0m \u001b[1;33m=\u001b[0m \u001b[0mnp\u001b[0m\u001b[1;33m.\u001b[0m\u001b[0marray\u001b[0m\u001b[1;33m(\u001b[0m\u001b[0mcolors\u001b[0m\u001b[1;33m)\u001b[0m\u001b[1;33m\u001b[0m\u001b[1;33m\u001b[0m\u001b[0m\n\u001b[0m\u001b[0;32m      3\u001b[0m \u001b[0mcolor\u001b[0m \u001b[1;33m=\u001b[0m \u001b[0mnp\u001b[0m\u001b[1;33m.\u001b[0m\u001b[0marray\u001b[0m\u001b[1;33m(\u001b[0m\u001b[0mcolor\u001b[0m\u001b[1;33m)\u001b[0m\u001b[1;33m\u001b[0m\u001b[1;33m\u001b[0m\u001b[0m\n\u001b[0;32m      4\u001b[0m \u001b[1;33m\u001b[0m\u001b[0m\n\u001b[0;32m      5\u001b[0m \u001b[1;33m@\u001b[0m\u001b[0mjit\u001b[0m\u001b[1;33m\u001b[0m\u001b[1;33m\u001b[0m\u001b[0m\n",
      "\u001b[1;31mNameError\u001b[0m: name 'colors' is not defined"
     ]
    }
   ],
   "source": [
    "from numba import jit\n",
    "colors = np.array(colors)\n",
    "color = np.array(color)\n",
    "\n",
    "@jit\n",
    "def closest(colors,color):\n",
    "    distances = np.sqrt(np.sum((colors-color)**2,axis=1))\n",
    "    index_of_smallest = np.where(distances==np.amin(distances))\n",
    "    smallest_distance = colors[index_of_smallest]\n",
    "    return smallest_distance "
   ]
  },
  {
   "cell_type": "markdown",
   "id": "504d8867",
   "metadata": {},
   "source": [
    "查看sort内的颜色"
   ]
  },
  {
   "cell_type": "code",
   "execution_count": 13,
   "id": "b9291fa7",
   "metadata": {
    "ExecuteTime": {
     "end_time": "2021-09-30T01:05:55.854180Z",
     "start_time": "2021-09-30T01:05:55.848180Z"
    }
   },
   "outputs": [],
   "source": [
    "f=open('../bin/color_board.bin','rb')\n",
    "color_board=pickle.load(f)\n",
    "f.close()"
   ]
  },
  {
   "cell_type": "code",
   "execution_count": 8,
   "id": "ae68fe9a",
   "metadata": {
    "ExecuteTime": {
     "end_time": "2021-09-30T01:04:27.158424Z",
     "start_time": "2021-09-30T01:04:27.141420Z"
    }
   },
   "outputs": [],
   "source": [
    "sort = [(1624, 119), (1609, 114), (1522, 106), (1497, 41), (1530, 32)]"
   ]
  },
  {
   "cell_type": "code",
   "execution_count": 19,
   "id": "70909714",
   "metadata": {
    "ExecuteTime": {
     "end_time": "2021-09-30T01:16:49.915919Z",
     "start_time": "2021-09-30T01:16:49.897920Z"
    }
   },
   "outputs": [],
   "source": [
    "cbl = color_board.load()\n",
    "color_array = []\n",
    "for i in sort:\n",
    "    i = list(i)\n",
    "    color_array.append(cbl[((i[0] - 1470),(i[1] - 25))])"
   ]
  },
  {
   "cell_type": "code",
   "execution_count": 17,
   "id": "4ae73ac5",
   "metadata": {
    "ExecuteTime": {
     "end_time": "2021-09-30T01:10:01.691235Z",
     "start_time": "2021-09-30T01:10:01.663876Z"
    }
   },
   "outputs": [
    {
     "data": {
      "image/png": "[encoded data removed]",
      "text/plain": [
       "<PIL.Image.Image image mode=RGB size=100x100 at 0x23B27DF1AC0>"
      ]
     },
     "execution_count": 17,
     "metadata": {},
     "output_type": "execute_result"
    }
   ],
   "source": [
    "Image.new('RGB', (100, 100), (231, 239, 200))"
   ]
  }
 ],
 "metadata": {
  "kernelspec": {
   "display_name": "Python 3 (ipykernel)",
   "language": "python",
   "name": "python3"
  },
  "language_info": {
   "codemirror_mode": {
    "name": "ipython",
    "version": 3
   },
   "file_extension": ".py",
   "mimetype": "text/x-python",
   "name": "python",
   "nbconvert_exporter": "python",
   "pygments_lexer": "ipython3",
   "version": "3.9.5"
  },
  "varInspector": {
   "cols": {
    "lenName": 16,
    "lenType": 16,
    "lenVar": 40
   },
   "kernels_config": {
    "python": {
     "delete_cmd_postfix": "",
     "delete_cmd_prefix": "del ",
     "library": "var_list.py",
     "varRefreshCmd": "print(var_dic_list())"
    },
    "r": {
     "delete_cmd_postfix": ") ",
     "delete_cmd_prefix": "rm(",
     "library": "var_list.r",
     "varRefreshCmd": "cat(var_dic_list()) "
    }
   },
   "position": {
    "height": "687.844px",
    "left": "1550px",
    "right": "20px",
    "top": "120px",
    "width": "350px"
   },
   "types_to_exclude": [
    "module",
    "function",
    "builtin_function_or_method",
    "instance",
    "_Feature"
   ],
   "window_display": true
  }
 },
 "nbformat": 4,
 "nbformat_minor": 5
}
