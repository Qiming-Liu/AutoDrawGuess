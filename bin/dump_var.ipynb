{
 "cells": [
  {
   "cell_type": "code",
   "execution_count": 1,
   "id": "fcfff938",
   "metadata": {
    "ExecuteTime": {
     "end_time": "2021-09-29T18:06:19.265641Z",
     "start_time": "2021-09-29T18:06:19.190643Z"
    }
   },
   "outputs": [],
   "source": [
    "from tkinter import Tk, Canvas, Button, PhotoImage, filedialog\n",
    "import keyboard\n",
    "import pyautogui\n",
    "from PIL import Image, ImageGrab\n",
    "import win32api, win32gui\n",
    "import pickle, time\n",
    "import numpy as np\n",
    "from tqdm import tqdm"
   ]
  },
  {
   "cell_type": "markdown",
   "id": "32175faf",
   "metadata": {},
   "source": [
    "# 此文件用于获取调色板变量并保存"
   ]
  },
  {
   "cell_type": "markdown",
   "id": "7eb60927",
   "metadata": {},
   "source": [
    "确保游戏处于画图阶段, 右上角有全部的调色板 1080p 全屏"
   ]
  },
  {
   "cell_type": "code",
   "execution_count": null,
   "id": "16dbedcc",
   "metadata": {},
   "outputs": [],
   "source": [
    "# 游戏截图\n",
    "hwnd = win32gui.FindWindow(0, 'Draw&Guess')\n",
    "(x1, y1, x2, y2) = win32gui.GetWindowRect(hwnd)\n",
    "screen = ImageGrab.grab((x1, y1, x2, y2))"
   ]
  },
  {
   "cell_type": "code",
   "execution_count": null,
   "id": "1717b7f2",
   "metadata": {},
   "outputs": [],
   "source": [
    "# 获取调色板\n",
    "color_board = screen.crop((1470, 25, 1770, 125))\n",
    "color_board = color_board.load()"
   ]
  },
  {
   "cell_type": "code",
   "execution_count": null,
   "id": "dc60e85f",
   "metadata": {},
   "outputs": [],
   "source": [
    "# 统计调色板颜色\n",
    "colors = []\n",
    "for x in range(300):\n",
    "    for y in range(100):\n",
    "        color3 = [color_board[x, y][0], color_board[x, y][1], color_board[x, y][2]]\n",
    "        colors.append(color3)\n",
    "colors = np.array(colors)"
   ]
  },
  {
   "cell_type": "code",
   "execution_count": null,
   "id": "67a90672",
   "metadata": {},
   "outputs": [],
   "source": [
    "# 建立调色板字典 (颜色:位置)\n",
    "color_dic = {}\n",
    "for x in range(300):\n",
    "    for y in range(100):\n",
    "        color_dic[color_board[x, y]] = (x + 1470, y + 25)"
   ]
  },
  {
   "cell_type": "code",
   "execution_count": null,
   "id": "08b334a5",
   "metadata": {},
   "outputs": [],
   "source": [
    "# 保存变量\n",
    "def save_var(var, filename):\n",
    "    file=open(filename,'wb')\n",
    "    pickle.dump(var,file)\n",
    "    file.close()\n",
    "\n",
    "save_var(colors, './colors_all.bin')\n",
    "save_var(color_dic, './colors_all_dic.bin')"
   ]
  }
 ],
 "metadata": {
  "kernelspec": {
   "display_name": "Python 3 (ipykernel)",
   "language": "python",
   "name": "python3"
  },
  "language_info": {
   "codemirror_mode": {
    "name": "ipython",
    "version": 3
   },
   "file_extension": ".py",
   "mimetype": "text/x-python",
   "name": "python",
   "nbconvert_exporter": "python",
   "pygments_lexer": "ipython3",
   "version": "3.9.5"
  },
  "varInspector": {
   "cols": {
    "lenName": 16,
    "lenType": 16,
    "lenVar": 40
   },
   "kernels_config": {
    "python": {
     "delete_cmd_postfix": "",
     "delete_cmd_prefix": "del ",
     "library": "var_list.py",
     "varRefreshCmd": "print(var_dic_list())"
    },
    "r": {
     "delete_cmd_postfix": ") ",
     "delete_cmd_prefix": "rm(",
     "library": "var_list.r",
     "varRefreshCmd": "cat(var_dic_list()) "
    }
   },
   "types_to_exclude": [
    "module",
    "function",
    "builtin_function_or_method",
    "instance",
    "_Feature"
   ],
   "window_display": false
  }
 },
 "nbformat": 4,
 "nbformat_minor": 5
}
